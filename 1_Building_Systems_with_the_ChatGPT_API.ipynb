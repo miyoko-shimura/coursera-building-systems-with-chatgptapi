{
  "cells": [
    {
      "cell_type": "markdown",
      "metadata": {
        "id": "view-in-github",
        "colab_type": "text"
      },
      "source": [
        "<a href=\"https://colab.research.google.com/github/miyoko-shimura/coursera-building-systems-with-chatgptapi/blob/main/1_Building_Systems_with_the_ChatGPT_API.ipynb\" target=\"_parent\"><img src=\"https://colab.research.google.com/assets/colab-badge.svg\" alt=\"Open In Colab\"/></a>"
      ]
    },
    {
      "cell_type": "markdown",
      "id": "ae5bcee9-6588-4d29-bbb9-6fb351ef6630",
      "metadata": {
        "id": "ae5bcee9-6588-4d29-bbb9-6fb351ef6630"
      },
      "source": [
        "# L1 Language Models, the Chat Format and Tokens"
      ]
    },
    {
      "cell_type": "markdown",
      "id": "0c797991-8486-4d79-8c1d-5dc0c1289c2f",
      "metadata": {
        "id": "0c797991-8486-4d79-8c1d-5dc0c1289c2f"
      },
      "source": [
        "## Setup\n",
        "#### Load the API key and relevant Python libaries.\n",
        "In this course, we've provided some code that loads the OpenAI API key for you."
      ]
    },
    {
      "cell_type": "code",
      "execution_count": 6,
      "id": "19cd4e96",
      "metadata": {
        "colab": {
          "base_uri": "https://localhost:8080/"
        },
        "id": "19cd4e96",
        "outputId": "d0b5afa6-e1b1-468a-993e-85bbc0e9ca0c"
      },
      "outputs": [
        {
          "output_type": "stream",
          "name": "stdout",
          "text": [
            "Requirement already satisfied: openai==0.28 in /usr/local/lib/python3.10/dist-packages (0.28.0)\n",
            "Requirement already satisfied: requests>=2.20 in /usr/local/lib/python3.10/dist-packages (from openai==0.28) (2.31.0)\n",
            "Requirement already satisfied: tqdm in /usr/local/lib/python3.10/dist-packages (from openai==0.28) (4.66.4)\n",
            "Requirement already satisfied: aiohttp in /usr/local/lib/python3.10/dist-packages (from openai==0.28) (3.9.5)\n",
            "Requirement already satisfied: charset-normalizer<4,>=2 in /usr/local/lib/python3.10/dist-packages (from requests>=2.20->openai==0.28) (3.3.2)\n",
            "Requirement already satisfied: idna<4,>=2.5 in /usr/local/lib/python3.10/dist-packages (from requests>=2.20->openai==0.28) (3.7)\n",
            "Requirement already satisfied: urllib3<3,>=1.21.1 in /usr/local/lib/python3.10/dist-packages (from requests>=2.20->openai==0.28) (2.0.7)\n",
            "Requirement already satisfied: certifi>=2017.4.17 in /usr/local/lib/python3.10/dist-packages (from requests>=2.20->openai==0.28) (2024.2.2)\n",
            "Requirement already satisfied: aiosignal>=1.1.2 in /usr/local/lib/python3.10/dist-packages (from aiohttp->openai==0.28) (1.3.1)\n",
            "Requirement already satisfied: attrs>=17.3.0 in /usr/local/lib/python3.10/dist-packages (from aiohttp->openai==0.28) (23.2.0)\n",
            "Requirement already satisfied: frozenlist>=1.1.1 in /usr/local/lib/python3.10/dist-packages (from aiohttp->openai==0.28) (1.4.1)\n",
            "Requirement already satisfied: multidict<7.0,>=4.5 in /usr/local/lib/python3.10/dist-packages (from aiohttp->openai==0.28) (6.0.5)\n",
            "Requirement already satisfied: yarl<2.0,>=1.0 in /usr/local/lib/python3.10/dist-packages (from aiohttp->openai==0.28) (1.9.4)\n",
            "Requirement already satisfied: async-timeout<5.0,>=4.0 in /usr/local/lib/python3.10/dist-packages (from aiohttp->openai==0.28) (4.0.3)\n",
            "Requirement already satisfied: tiktoken in /usr/local/lib/python3.10/dist-packages (0.7.0)\n",
            "Requirement already satisfied: regex>=2022.1.18 in /usr/local/lib/python3.10/dist-packages (from tiktoken) (2023.12.25)\n",
            "Requirement already satisfied: requests>=2.26.0 in /usr/local/lib/python3.10/dist-packages (from tiktoken) (2.31.0)\n",
            "Requirement already satisfied: charset-normalizer<4,>=2 in /usr/local/lib/python3.10/dist-packages (from requests>=2.26.0->tiktoken) (3.3.2)\n",
            "Requirement already satisfied: idna<4,>=2.5 in /usr/local/lib/python3.10/dist-packages (from requests>=2.26.0->tiktoken) (3.7)\n",
            "Requirement already satisfied: urllib3<3,>=1.21.1 in /usr/local/lib/python3.10/dist-packages (from requests>=2.26.0->tiktoken) (2.0.7)\n",
            "Requirement already satisfied: certifi>=2017.4.17 in /usr/local/lib/python3.10/dist-packages (from requests>=2.26.0->tiktoken) (2024.2.2)\n"
          ]
        }
      ],
      "source": [
        "!pip install openai==0.28\n",
        "!pip install tiktoken\n",
        "\n",
        "import os\n",
        "import openai\n",
        "import tiktoken\n",
        "from google.colab import userdata\n",
        "\n",
        "# Retrieve the OpenAI API key from Colab's userdata\n",
        "openai.api_key = userdata.get('OpenAI')"
      ]
    },
    {
      "cell_type": "markdown",
      "id": "47ba0938-7ca5-46c4-a9d1-b55708d4dc7c",
      "metadata": {
        "id": "47ba0938-7ca5-46c4-a9d1-b55708d4dc7c"
      },
      "source": [
        "#### helper function\n",
        "This may look familiar if you took the earlier course \"ChatGPT Prompt Engineering for Developers\" Course.\n",
        "\n",
        "Throughout this course, we will use OpenAI's `gpt-3.5-turbo` model and the [chat completions endpoint](https://platform.openai.com/docs/guides/chat).\n",
        "\n",
        "This helper function will make it easier to use prompts and look at the generated outputs.\n",
        "\n",
        "**Note**: In June 2023, OpenAI updated gpt-3.5-turbo. The results you see in the notebook may be slightly different than those in the video. Some of the prompts have also been slightly modified to produce the desired results."
      ]
    },
    {
      "cell_type": "code",
      "execution_count": 9,
      "id": "1ed96988",
      "metadata": {
        "id": "1ed96988"
      },
      "outputs": [],
      "source": [
        "def get_completion(prompt, model=\"gpt-3.5-turbo\"):\n",
        "    messages = [{\"role\": \"user\", \"content\": prompt}]\n",
        "    response = openai.ChatCompletion.create(\n",
        "        model=model,\n",
        "        messages=messages,\n",
        "        temperature=0, # this is the degree of randomness of the model's output\n",
        "    )\n",
        "    return response.choices[0].message[\"content\"]"
      ]
    },
    {
      "cell_type": "markdown",
      "id": "73207e48-02a1-4e7e-bf41-ba29ee11ecfc",
      "metadata": {
        "id": "73207e48-02a1-4e7e-bf41-ba29ee11ecfc"
      },
      "source": [
        "**Note**: This and all other lab notebooks of this course use OpenAI library version `0.27.0`.\n",
        "\n",
        "In order to use the OpenAI library version `1.0.0`, here is the code that you would use instead for the get_completion function:\n",
        "\n",
        "```python\n",
        "client = openai.OpenAI()\n",
        "\n",
        "def get_completion(prompt, model=\"gpt-3.5-turbo\"):\n",
        "    messages = [{\"role\": \"user\", \"content\": prompt}]\n",
        "    response = client.chat.completions.create(\n",
        "        model=model,\n",
        "        messages=messages,\n",
        "        temperature=0\n",
        "    )\n",
        "    return response.choices[0].message.content\n",
        "```"
      ]
    },
    {
      "cell_type": "markdown",
      "id": "fe10a390-2461-447d-bf8b-8498db404c44",
      "metadata": {
        "id": "fe10a390-2461-447d-bf8b-8498db404c44"
      },
      "source": [
        "## Prompt the model and get a completion"
      ]
    },
    {
      "cell_type": "code",
      "execution_count": 11,
      "id": "e1cc57b2",
      "metadata": {
        "id": "e1cc57b2"
      },
      "outputs": [],
      "source": [
        "response = get_completion(\"What is the capital of France?\")"
      ]
    },
    {
      "cell_type": "code",
      "execution_count": 12,
      "id": "76774108",
      "metadata": {
        "colab": {
          "base_uri": "https://localhost:8080/"
        },
        "id": "76774108",
        "outputId": "25e1d75d-b37e-4d54-87e1-181185fbabe4"
      },
      "outputs": [
        {
          "output_type": "stream",
          "name": "stdout",
          "text": [
            "The capital of France is Paris.\n"
          ]
        }
      ],
      "source": [
        "print(response)"
      ]
    },
    {
      "cell_type": "markdown",
      "id": "b83d4e38-3e3c-4c5a-a949-040a27f29d63",
      "metadata": {
        "id": "b83d4e38-3e3c-4c5a-a949-040a27f29d63"
      },
      "source": [
        "## Tokens"
      ]
    },
    {
      "cell_type": "code",
      "execution_count": 13,
      "id": "cc2d9e40",
      "metadata": {
        "colab": {
          "base_uri": "https://localhost:8080/"
        },
        "id": "cc2d9e40",
        "outputId": "800d768e-eb4c-4c85-a130-28665037d7c8"
      },
      "outputs": [
        {
          "output_type": "stream",
          "name": "stdout",
          "text": [
            "pilpolol\n"
          ]
        }
      ],
      "source": [
        "response = get_completion(\"Take the letters in lollipop \\\n",
        "and reverse them\")\n",
        "print(response)"
      ]
    },
    {
      "cell_type": "markdown",
      "id": "9d2b14d0-749d-4a79-9812-7b00ace9ae6f",
      "metadata": {
        "id": "9d2b14d0-749d-4a79-9812-7b00ace9ae6f"
      },
      "source": [
        "\"lollipop\" in reverse should be \"popillol\""
      ]
    },
    {
      "cell_type": "code",
      "execution_count": 14,
      "id": "37cab84f",
      "metadata": {
        "id": "37cab84f"
      },
      "outputs": [],
      "source": [
        "response = get_completion(\"\"\"Take the letters in \\\n",
        "l-o-l-l-i-p-o-p and reverse them\"\"\")"
      ]
    },
    {
      "cell_type": "code",
      "execution_count": 15,
      "id": "1577c561",
      "metadata": {
        "colab": {
          "base_uri": "https://localhost:8080/",
          "height": 36
        },
        "id": "1577c561",
        "outputId": "0ee543a4-0955-41bb-fa06-f5c8a28caa89"
      },
      "outputs": [
        {
          "output_type": "execute_result",
          "data": {
            "text/plain": [
              "'p-o-p-i-l-l-o-l'"
            ],
            "application/vnd.google.colaboratory.intrinsic+json": {
              "type": "string"
            }
          },
          "metadata": {},
          "execution_count": 15
        }
      ],
      "source": [
        "response"
      ]
    },
    {
      "cell_type": "markdown",
      "id": "c8b88940-d3ab-4c00-b5c0-31531deaacbd",
      "metadata": {
        "id": "c8b88940-d3ab-4c00-b5c0-31531deaacbd"
      },
      "source": [
        "## Helper function (chat format)\n",
        "Here's the helper function we'll use in this course."
      ]
    },
    {
      "cell_type": "code",
      "execution_count": 18,
      "id": "8f89efad",
      "metadata": {
        "id": "8f89efad"
      },
      "outputs": [],
      "source": [
        "def get_completion_from_messages(messages,\n",
        "                                 model=\"gpt-3.5-turbo\",\n",
        "                                 temperature=0,\n",
        "                                 max_tokens=500):\n",
        "    response = openai.ChatCompletion.create(\n",
        "        model=model,\n",
        "        messages=messages,\n",
        "        temperature=temperature, # this is the degree of randomness of the model's output\n",
        "        max_tokens=max_tokens, # the maximum number of tokens the model can ouptut\n",
        "    )\n",
        "    return response.choices[0].message[\"content\"]"
      ]
    },
    {
      "cell_type": "code",
      "execution_count": 19,
      "id": "b28c3424",
      "metadata": {
        "colab": {
          "base_uri": "https://localhost:8080/"
        },
        "id": "b28c3424",
        "outputId": "e49a9495-2fb3-439c-f143-47a2db61e743"
      },
      "outputs": [
        {
          "output_type": "stream",
          "name": "stdout",
          "text": [
            "Oh, the happy carrot, orange and bright,\n",
            "Grew in the garden, a joyful sight,\n",
            "With a leafy green top, reaching so high,\n",
            "Bathed in sunshine from the sky so nigh.\n",
            "It sang a tune, so merry and fine,\n",
            "\"O happy day, this life of mine!\"\n"
          ]
        }
      ],
      "source": [
        "messages =  [\n",
        "{'role':'system',\n",
        " 'content':\"\"\"You are an assistant who\\\n",
        " responds in the style of Dr Seuss.\"\"\"},\n",
        "{'role':'user',\n",
        " 'content':\"\"\"write me a very short poem\\\n",
        " about a happy carrot\"\"\"},\n",
        "]\n",
        "response = get_completion_from_messages(messages, temperature=1)\n",
        "print(response)"
      ]
    },
    {
      "cell_type": "code",
      "execution_count": 20,
      "id": "56c6978d",
      "metadata": {
        "colab": {
          "base_uri": "https://localhost:8080/"
        },
        "id": "56c6978d",
        "outputId": "07cd5488-f47c-40b9-eab7-1a77e1f13c42"
      },
      "outputs": [
        {
          "output_type": "stream",
          "name": "stdout",
          "text": [
            "Once upon a time, a cheerful carrot named Charlie grew big and proud in the sunny vegetable patch.\n"
          ]
        }
      ],
      "source": [
        "# length\n",
        "messages =  [\n",
        "{'role':'system',\n",
        " 'content':'All your responses must be \\\n",
        "one sentence long.'},\n",
        "{'role':'user',\n",
        " 'content':'write me a story about a happy carrot'},\n",
        "]\n",
        "response = get_completion_from_messages(messages, temperature =1)\n",
        "print(response)"
      ]
    },
    {
      "cell_type": "code",
      "execution_count": 21,
      "id": "14fd6331",
      "metadata": {
        "colab": {
          "base_uri": "https://localhost:8080/"
        },
        "id": "14fd6331",
        "outputId": "2ee0d56d-5166-44f2-9f9c-1c70dae59c2b"
      },
      "outputs": [
        {
          "output_type": "stream",
          "name": "stdout",
          "text": [
            "In a field of green, a carrot with a grin, danced and sang with a joyful spin.\n"
          ]
        }
      ],
      "source": [
        "# combined\n",
        "messages =  [\n",
        "{'role':'system',\n",
        " 'content':\"\"\"You are an assistant who \\\n",
        "responds in the style of Dr Seuss. \\\n",
        "All your responses must be one sentence long.\"\"\"},\n",
        "{'role':'user',\n",
        " 'content':\"\"\"write me a story about a happy carrot\"\"\"},\n",
        "]\n",
        "response = get_completion_from_messages(messages,\n",
        "                                        temperature =1)\n",
        "print(response)"
      ]
    },
    {
      "cell_type": "code",
      "execution_count": 23,
      "id": "89a70c79",
      "metadata": {
        "id": "89a70c79"
      },
      "outputs": [],
      "source": [
        "def get_completion_and_token_count(messages,\n",
        "                                   model=\"gpt-3.5-turbo\",\n",
        "                                   temperature=0,\n",
        "                                   max_tokens=500):\n",
        "\n",
        "    response = openai.ChatCompletion.create(\n",
        "        model=model,\n",
        "        messages=messages,\n",
        "        temperature=temperature,\n",
        "        max_tokens=max_tokens,\n",
        "    )\n",
        "\n",
        "    content = response.choices[0].message[\"content\"]\n",
        "\n",
        "    token_dict = {\n",
        "'prompt_tokens':response['usage']['prompt_tokens'],\n",
        "'completion_tokens':response['usage']['completion_tokens'],\n",
        "'total_tokens':response['usage']['total_tokens'],\n",
        "    }\n",
        "\n",
        "    return content, token_dict"
      ]
    },
    {
      "cell_type": "code",
      "execution_count": 24,
      "id": "a64cf3c6",
      "metadata": {
        "id": "a64cf3c6"
      },
      "outputs": [],
      "source": [
        "messages = [\n",
        "{'role':'system',\n",
        " 'content':\"\"\"You are an assistant who responds\\\n",
        " in the style of Dr Seuss.\"\"\"},\n",
        "{'role':'user',\n",
        " 'content':\"\"\"write me a very short poem \\\n",
        " about a happy carrot\"\"\"},\n",
        "]\n",
        "response, token_dict = get_completion_and_token_count(messages)"
      ]
    },
    {
      "cell_type": "code",
      "execution_count": 25,
      "id": "cfd8fbd4",
      "metadata": {
        "colab": {
          "base_uri": "https://localhost:8080/"
        },
        "id": "cfd8fbd4",
        "outputId": "e32418eb-f437-4db5-9195-f1393eb7ada3"
      },
      "outputs": [
        {
          "output_type": "stream",
          "name": "stdout",
          "text": [
            "Oh, the happy carrot, so bright and so bold,\n",
            "In the garden, its story is joyfully told.\n",
            "With a leafy green top and a vibrant orange hue,\n",
            "It dances and sings, bringing smiles to you.\n"
          ]
        }
      ],
      "source": [
        "print(response)"
      ]
    },
    {
      "cell_type": "code",
      "execution_count": 26,
      "id": "352ad320",
      "metadata": {
        "colab": {
          "base_uri": "https://localhost:8080/"
        },
        "id": "352ad320",
        "outputId": "5ea1618f-07a1-45ab-9adf-0e85aa234447"
      },
      "outputs": [
        {
          "output_type": "stream",
          "name": "stdout",
          "text": [
            "{'prompt_tokens': 37, 'completion_tokens': 45, 'total_tokens': 82}\n"
          ]
        }
      ],
      "source": [
        "print(token_dict)"
      ]
    },
    {
      "cell_type": "markdown",
      "id": "65372cdd-d869-4768-947a-0173e7f96335",
      "metadata": {
        "id": "65372cdd-d869-4768-947a-0173e7f96335"
      },
      "source": [
        "#### Notes on using the OpenAI API outside of this classroom\n",
        "\n",
        "To install the OpenAI Python library:\n",
        "```\n",
        "!pip install openai\n",
        "```\n",
        "\n",
        "The library needs to be configured with your account's secret key, which is available on the [website](https://platform.openai.com/account/api-keys).\n",
        "\n",
        "You can either set it as the `OPENAI_API_KEY` environment variable before using the library:\n",
        " ```\n",
        " !export OPENAI_API_KEY='sk-...'\n",
        " ```\n",
        "\n",
        "Or, set `openai.api_key` to its value:\n",
        "\n",
        "```\n",
        "import openai\n",
        "openai.api_key = \"sk-...\"\n",
        "```"
      ]
    },
    {
      "cell_type": "markdown",
      "id": "d8f889c1-f2e4-40a5-bd27-164facb54402",
      "metadata": {
        "id": "d8f889c1-f2e4-40a5-bd27-164facb54402"
      },
      "source": [
        "#### A note about the backslash\n",
        "- In the course, we are using a backslash `\\` to make the text fit on the screen without inserting newline '\\n' characters.\n",
        "- GPT-3 isn't really affected whether you insert newline characters or not.  But when working with LLMs in general, you may consider whether newline characters in your prompt may affect the model's performance."
      ]
    },
    {
      "cell_type": "code",
      "execution_count": null,
      "id": "294dcc54-f941-422e-8602-d8e78a0da093",
      "metadata": {
        "id": "294dcc54-f941-422e-8602-d8e78a0da093"
      },
      "outputs": [],
      "source": []
    }
  ],
  "metadata": {
    "kernelspec": {
      "display_name": "Python 3 (ipykernel)",
      "language": "python",
      "name": "python3"
    },
    "language_info": {
      "codemirror_mode": {
        "name": "ipython",
        "version": 3
      },
      "file_extension": ".py",
      "mimetype": "text/x-python",
      "name": "python",
      "nbconvert_exporter": "python",
      "pygments_lexer": "ipython3",
      "version": "3.9.16"
    },
    "colab": {
      "provenance": [],
      "include_colab_link": true
    }
  },
  "nbformat": 4,
  "nbformat_minor": 5
}